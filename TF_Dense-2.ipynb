{
  "nbformat": 4,
  "nbformat_minor": 0,
  "metadata": {
    "colab": {
      "provenance": []
    },
    "kernelspec": {
      "name": "python3",
      "display_name": "Python 3"
    },
    "language_info": {
      "name": "python"
    },
    "accelerator": "GPU",
    "gpuClass": "standard"
  },
  "cells": [
    {
      "cell_type": "code",
      "execution_count": 2,
      "metadata": {
        "id": "6BzrPpcJf7r0"
      },
      "outputs": [],
      "source": [
        " import tensorflow as tf"
      ]
    },
    {
      "cell_type": "code",
      "source": [
        "tf.keras.layers.Dense(\n",
        "    32, #Positive integer, dimensionality of the output space.\n",
        "    activation=None,#Activation function to use. If you don't specify anything, no activation is applied (ie. \"linear\" activation: a(x) = x).\n",
        "    use_bias=True,#Boolean, whether the layer uses a bias vector.\n",
        "    kernel_initializer='glorot_uniform', #Initializer for the kernel weights matrix.\n",
        "    bias_initializer='zeros', #Initializer for the bias vector.\n",
        "    kernel_regularizer=None, #Regularizer function applied to the kernel weights matrix.\n",
        "    bias_regularizer=None, #Regularizer function applied to the bias vector.\n",
        "    activity_regularizer=None, #Regularizer function applied to the output of the layer (its \"activation\").\n",
        "    kernel_constraint=None, #Constraint function applied to the kernel weights matrix.\n",
        "    bias_constraint=None, #Constraint function applied to the bias vector.\n",
        "    #**kwargs\n",
        ")"
      ],
      "metadata": {
        "colab": {
          "base_uri": "https://localhost:8080/"
        },
        "id": "B_9Da-uYkdiv",
        "outputId": "29e075a4-cdad-4d84-e052-ebc41535a322"
      },
      "execution_count": 4,
      "outputs": [
        {
          "output_type": "execute_result",
          "data": {
            "text/plain": [
              "<keras.layers.core.dense.Dense at 0x7fb6939e9cc0>"
            ]
          },
          "metadata": {},
          "execution_count": 4
        }
      ]
    }
  ]
}